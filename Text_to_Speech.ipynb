{
 "cells": [
  {
   "cell_type": "code",
   "execution_count": 2,
   "metadata": {},
   "outputs": [
    {
     "name": "stdout",
     "output_type": "stream",
     "text": [
      "Collecting gtts\n",
      "  Obtaining dependency information for gtts from https://files.pythonhosted.org/packages/a7/ef/190f64a4edeb13165e3c598a08f06a2ae80cdae0aa208c96c20efdb7ad4b/gTTS-2.4.0-py3-none-any.whl.metadata\n",
      "  Downloading gTTS-2.4.0-py3-none-any.whl.metadata (4.1 kB)\n",
      "Requirement already satisfied: requests<3,>=2.27 in c:\\users\\sumeet maheshwari\\anaconda3\\lib\\site-packages (from gtts) (2.31.0)\n",
      "Requirement already satisfied: click<8.2,>=7.1 in c:\\users\\sumeet maheshwari\\anaconda3\\lib\\site-packages (from gtts) (8.0.4)\n",
      "Requirement already satisfied: colorama in c:\\users\\sumeet maheshwari\\anaconda3\\lib\\site-packages (from click<8.2,>=7.1->gtts) (0.4.6)\n",
      "Requirement already satisfied: charset-normalizer<4,>=2 in c:\\users\\sumeet maheshwari\\anaconda3\\lib\\site-packages (from requests<3,>=2.27->gtts) (2.0.4)\n",
      "Requirement already satisfied: idna<4,>=2.5 in c:\\users\\sumeet maheshwari\\anaconda3\\lib\\site-packages (from requests<3,>=2.27->gtts) (3.4)\n",
      "Requirement already satisfied: urllib3<3,>=1.21.1 in c:\\users\\sumeet maheshwari\\anaconda3\\lib\\site-packages (from requests<3,>=2.27->gtts) (1.26.16)\n",
      "Requirement already satisfied: certifi>=2017.4.17 in c:\\users\\sumeet maheshwari\\anaconda3\\lib\\site-packages (from requests<3,>=2.27->gtts) (2023.7.22)\n",
      "Using cached gTTS-2.4.0-py3-none-any.whl (29 kB)\n",
      "Installing collected packages: gtts\n",
      "Successfully installed gtts-2.4.0\n",
      "Note: you may need to restart the kernel to use updated packages.\n"
     ]
    },
    {
     "name": "stderr",
     "output_type": "stream",
     "text": [
      "  WARNING: The script gtts-cli.exe is installed in 'c:\\Users\\Sumeet Maheshwari\\anaconda3\\Scripts' which is not on PATH.\n",
      "  Consider adding this directory to PATH or, if you prefer to suppress this warning, use --no-warn-script-location.\n"
     ]
    }
   ],
   "source": [
    "pip install gtts\n"
   ]
  },
  {
   "cell_type": "code",
   "execution_count": 4,
   "metadata": {},
   "outputs": [
    {
     "name": "stdout",
     "output_type": "stream",
     "text": [
      "Audio Saved as output.mp3\n"
     ]
    }
   ],
   "source": [
    "from gtts import gTTS\n",
    "import os, sys\n",
    "\n",
    "\n",
    "def text_to_speech(text, filename):\n",
    "    try:\n",
    "        \n",
    "        tts = gTTS(text = text, lang = 'en') # Object Creation\n",
    "        \n",
    "        # Save the audio file\n",
    "        \n",
    "        tts.save(filename)\n",
    "        print(f\"Audio Saved as {filename}\")\n",
    "        \n",
    "        os.system(f\"start {filename}\" ) # Play the audio using the default audio player\n",
    "        \n",
    "        \n",
    "    \n",
    "    except Exception as e:\n",
    "        print(\"An Erro Occurreed: \", str(e))\n",
    "        \n",
    "if __name__ == \"__main__\":\n",
    "    input_text = input(\"Enter the text you want to convet to speech...\")\n",
    "    output_file = \"output.mp3\"\n",
    "    text_to_speech(input_text, output_file)"
   ]
  },
  {
   "cell_type": "code",
   "execution_count": 5,
   "metadata": {},
   "outputs": [],
   "source": [
    "# Helper Functions --------------------------------\n",
    "from gtts import gTTS\n",
    "\n",
    "class TextToSpeech:\n",
    "    def __init__(self, text, filename):\n",
    "        self.text = text\n",
    "        self.filename = filename\n",
    "        \n",
    "    \n",
    "    def convert(self):\n",
    "        try:\n",
    "            tts = gTTS(text = self.text, lang = 'en')\n",
    "            \n",
    "            tts.save(self.filename)\n",
    "            \n",
    "            return True\n",
    "        \n",
    "        except Exception as e:\n",
    "            print(\"An Erro Occurreed: \", str(e))"
   ]
  },
  {
   "cell_type": "code",
   "execution_count": 6,
   "metadata": {},
   "outputs": [
    {
     "name": "stdout",
     "output_type": "stream",
     "text": [
      "Requirement already satisfied: gradio in c:\\users\\sumeet maheshwari\\appdata\\local\\programs\\python\\python310\\lib\\site-packages (4.5.0)\n",
      "Requirement already satisfied: markupsafe~=2.0 in c:\\users\\sumeet maheshwari\\appdata\\local\\programs\\python\\python310\\lib\\site-packages (from gradio) (2.1.3)\n",
      "Requirement already satisfied: pandas<3.0,>=1.0 in c:\\users\\sumeet maheshwari\\appdata\\local\\programs\\python\\python310\\lib\\site-packages (from gradio) (2.0.3)\n",
      "Requirement already satisfied: typing-extensions~=4.0 in c:\\users\\sumeet maheshwari\\appdata\\local\\programs\\python\\python310\\lib\\site-packages (from gradio) (4.8.0)\n",
      "Requirement already satisfied: pillow<11.0,>=8.0 in c:\\users\\sumeet maheshwari\\appdata\\local\\programs\\python\\python310\\lib\\site-packages (from gradio) (9.5.0)\n",
      "Requirement already satisfied: altair<6.0,>=4.2.0 in c:\\users\\sumeet maheshwari\\appdata\\local\\programs\\python\\python310\\lib\\site-packages (from gradio) (5.0.1)\n",
      "Requirement already satisfied: aiofiles<24.0,>=22.0 in c:\\users\\sumeet maheshwari\\appdata\\local\\programs\\python\\python310\\lib\\site-packages (from gradio) (23.2.1)\n",
      "Requirement already satisfied: numpy~=1.0 in c:\\users\\sumeet maheshwari\\appdata\\local\\programs\\python\\python310\\lib\\site-packages (from gradio) (1.24.3)\n",
      "Requirement already satisfied: semantic-version~=2.0 in c:\\users\\sumeet maheshwari\\appdata\\local\\programs\\python\\python310\\lib\\site-packages (from gradio) (2.10.0)\n",
      "Requirement already satisfied: pydub in c:\\users\\sumeet maheshwari\\appdata\\local\\programs\\python\\python310\\lib\\site-packages (from gradio) (0.25.1)\n",
      "Requirement already satisfied: tomlkit==0.12.0 in c:\\users\\sumeet maheshwari\\appdata\\local\\programs\\python\\python310\\lib\\site-packages (from gradio) (0.12.0)\n",
      "Requirement already satisfied: requests~=2.0 in c:\\users\\sumeet maheshwari\\appdata\\local\\programs\\python\\python310\\lib\\site-packages (from gradio) (2.31.0)\n",
      "Requirement already satisfied: gradio-client==0.7.0 in c:\\users\\sumeet maheshwari\\appdata\\local\\programs\\python\\python310\\lib\\site-packages (from gradio) (0.7.0)\n",
      "Requirement already satisfied: packaging in c:\\users\\sumeet maheshwari\\appdata\\local\\programs\\python\\python310\\lib\\site-packages (from gradio) (23.1)\n",
      "Requirement already satisfied: python-multipart in c:\\users\\sumeet maheshwari\\appdata\\local\\programs\\python\\python310\\lib\\site-packages (from gradio) (0.0.6)\n",
      "Requirement already satisfied: ffmpy in c:\\users\\sumeet maheshwari\\appdata\\local\\programs\\python\\python310\\lib\\site-packages (from gradio) (0.3.1)\n",
      "Requirement already satisfied: httpx in c:\\users\\sumeet maheshwari\\appdata\\local\\programs\\python\\python310\\lib\\site-packages (from gradio) (0.25.1)\n",
      "Requirement already satisfied: importlib-resources<7.0,>=1.3 in c:\\users\\sumeet maheshwari\\appdata\\local\\programs\\python\\python310\\lib\\site-packages (from gradio) (6.1.1)\n",
      "Requirement already satisfied: matplotlib~=3.0 in c:\\users\\sumeet maheshwari\\appdata\\local\\programs\\python\\python310\\lib\\site-packages (from gradio) (3.7.2)\n",
      "Requirement already satisfied: huggingface-hub>=0.14.0 in c:\\users\\sumeet maheshwari\\appdata\\local\\programs\\python\\python310\\lib\\site-packages (from gradio) (0.18.0)\n",
      "Requirement already satisfied: fastapi in c:\\users\\sumeet maheshwari\\appdata\\local\\programs\\python\\python310\\lib\\site-packages (from gradio) (0.101.1)\n",
      "Requirement already satisfied: jinja2<4.0 in c:\\users\\sumeet maheshwari\\appdata\\local\\programs\\python\\python310\\lib\\site-packages (from gradio) (3.1.2)\n",
      "Requirement already satisfied: orjson~=3.0 in c:\\users\\sumeet maheshwari\\appdata\\local\\programs\\python\\python310\\lib\\site-packages (from gradio) (3.9.10)\n",
      "Requirement already satisfied: pydantic>=2.0 in c:\\users\\sumeet maheshwari\\appdata\\local\\programs\\python\\python310\\lib\\site-packages (from gradio) (2.4.2)\n",
      "Requirement already satisfied: typer[all]<1.0,>=0.9 in c:\\users\\sumeet maheshwari\\appdata\\local\\programs\\python\\python310\\lib\\site-packages (from gradio) (0.9.0)\n",
      "Requirement already satisfied: uvicorn>=0.14.0 in c:\\users\\sumeet maheshwari\\appdata\\local\\programs\\python\\python310\\lib\\site-packages (from gradio) (0.23.2)\n",
      "Requirement already satisfied: pyyaml<7.0,>=5.0 in c:\\users\\sumeet maheshwari\\appdata\\local\\programs\\python\\python310\\lib\\site-packages (from gradio) (6.0.1)\n",
      "Requirement already satisfied: websockets<12.0,>=10.0 in c:\\users\\sumeet maheshwari\\appdata\\local\\programs\\python\\python310\\lib\\site-packages (from gradio-client==0.7.0->gradio) (11.0.3)\n",
      "Requirement already satisfied: fsspec in c:\\users\\sumeet maheshwari\\appdata\\local\\programs\\python\\python310\\lib\\site-packages (from gradio-client==0.7.0->gradio) (2023.10.0)\n",
      "Requirement already satisfied: jsonschema>=3.0 in c:\\users\\sumeet maheshwari\\appdata\\local\\programs\\python\\python310\\lib\\site-packages (from altair<6.0,>=4.2.0->gradio) (4.19.0)\n",
      "Requirement already satisfied: toolz in c:\\users\\sumeet maheshwari\\appdata\\local\\programs\\python\\python310\\lib\\site-packages (from altair<6.0,>=4.2.0->gradio) (0.12.0)\n",
      "Requirement already satisfied: tqdm>=4.42.1 in c:\\users\\sumeet maheshwari\\appdata\\local\\programs\\python\\python310\\lib\\site-packages (from huggingface-hub>=0.14.0->gradio) (4.66.1)\n",
      "Requirement already satisfied: filelock in c:\\users\\sumeet maheshwari\\appdata\\local\\programs\\python\\python310\\lib\\site-packages (from huggingface-hub>=0.14.0->gradio) (3.12.2)\n",
      "Requirement already satisfied: python-dateutil>=2.7 in c:\\users\\sumeet maheshwari\\appdata\\local\\programs\\python\\python310\\lib\\site-packages (from matplotlib~=3.0->gradio) (2.8.2)\n",
      "Requirement already satisfied: kiwisolver>=1.0.1 in c:\\users\\sumeet maheshwari\\appdata\\local\\programs\\python\\python310\\lib\\site-packages (from matplotlib~=3.0->gradio) (1.4.4)\n",
      "Requirement already satisfied: pyparsing<3.1,>=2.3.1 in c:\\users\\sumeet maheshwari\\appdata\\local\\programs\\python\\python310\\lib\\site-packages (from matplotlib~=3.0->gradio) (3.0.9)\n",
      "Requirement already satisfied: contourpy>=1.0.1 in c:\\users\\sumeet maheshwari\\appdata\\local\\programs\\python\\python310\\lib\\site-packages (from matplotlib~=3.0->gradio) (1.1.0)\n",
      "Requirement already satisfied: cycler>=0.10 in c:\\users\\sumeet maheshwari\\appdata\\local\\programs\\python\\python310\\lib\\site-packages (from matplotlib~=3.0->gradio) (0.11.0)\n",
      "Requirement already satisfied: fonttools>=4.22.0 in c:\\users\\sumeet maheshwari\\appdata\\local\\programs\\python\\python310\\lib\\site-packages (from matplotlib~=3.0->gradio) (4.42.1)\n",
      "Requirement already satisfied: pytz>=2020.1 in c:\\users\\sumeet maheshwari\\appdata\\local\\programs\\python\\python310\\lib\\site-packages (from pandas<3.0,>=1.0->gradio) (2023.3)\n",
      "Requirement already satisfied: tzdata>=2022.1 in c:\\users\\sumeet maheshwari\\appdata\\local\\programs\\python\\python310\\lib\\site-packages (from pandas<3.0,>=1.0->gradio) (2023.3)\n",
      "Requirement already satisfied: pydantic-core==2.10.1 in c:\\users\\sumeet maheshwari\\appdata\\local\\programs\\python\\python310\\lib\\site-packages (from pydantic>=2.0->gradio) (2.10.1)\n",
      "Requirement already satisfied: annotated-types>=0.4.0 in c:\\users\\sumeet maheshwari\\appdata\\local\\programs\\python\\python310\\lib\\site-packages (from pydantic>=2.0->gradio) (0.6.0)\n",
      "Requirement already satisfied: certifi>=2017.4.17 in c:\\users\\sumeet maheshwari\\appdata\\local\\programs\\python\\python310\\lib\\site-packages (from requests~=2.0->gradio) (2023.7.22)\n",
      "Requirement already satisfied: charset-normalizer<4,>=2 in c:\\users\\sumeet maheshwari\\appdata\\local\\programs\\python\\python310\\lib\\site-packages (from requests~=2.0->gradio) (3.2.0)\n",
      "Requirement already satisfied: urllib3<3,>=1.21.1 in c:\\users\\sumeet maheshwari\\appdata\\local\\programs\\python\\python310\\lib\\site-packages (from requests~=2.0->gradio) (1.26.16)\n",
      "Requirement already satisfied: idna<4,>=2.5 in c:\\users\\sumeet maheshwari\\appdata\\local\\programs\\python\\python310\\lib\\site-packages (from requests~=2.0->gradio) (3.4)\n",
      "Requirement already satisfied: click<9.0.0,>=7.1.1 in c:\\users\\sumeet maheshwari\\appdata\\local\\programs\\python\\python310\\lib\\site-packages (from typer[all]<1.0,>=0.9->gradio) (8.1.7)\n",
      "Requirement already satisfied: rich<14.0.0,>=10.11.0 in c:\\users\\sumeet maheshwari\\appdata\\local\\programs\\python\\python310\\lib\\site-packages (from typer[all]<1.0,>=0.9->gradio) (13.5.2)\n",
      "Requirement already satisfied: shellingham<2.0.0,>=1.3.0 in c:\\users\\sumeet maheshwari\\appdata\\local\\programs\\python\\python310\\lib\\site-packages (from typer[all]<1.0,>=0.9->gradio) (1.5.4)\n",
      "Requirement already satisfied: colorama<0.5.0,>=0.4.3 in c:\\users\\sumeet maheshwari\\appdata\\local\\programs\\python\\python310\\lib\\site-packages (from typer[all]<1.0,>=0.9->gradio) (0.4.6)\n",
      "Requirement already satisfied: h11>=0.8 in c:\\users\\sumeet maheshwari\\appdata\\local\\programs\\python\\python310\\lib\\site-packages (from uvicorn>=0.14.0->gradio) (0.14.0)\n",
      "Requirement already satisfied: starlette<0.28.0,>=0.27.0 in c:\\users\\sumeet maheshwari\\appdata\\local\\programs\\python\\python310\\lib\\site-packages (from fastapi->gradio) (0.27.0)\n",
      "Requirement already satisfied: anyio in c:\\users\\sumeet maheshwari\\appdata\\local\\programs\\python\\python310\\lib\\site-packages (from httpx->gradio) (3.7.1)\n",
      "Requirement already satisfied: sniffio in c:\\users\\sumeet maheshwari\\appdata\\local\\programs\\python\\python310\\lib\\site-packages (from httpx->gradio) (1.3.0)\n",
      "Requirement already satisfied: httpcore in c:\\users\\sumeet maheshwari\\appdata\\local\\programs\\python\\python310\\lib\\site-packages (from httpx->gradio) (1.0.1)\n",
      "Requirement already satisfied: jsonschema-specifications>=2023.03.6 in c:\\users\\sumeet maheshwari\\appdata\\local\\programs\\python\\python310\\lib\\site-packages (from jsonschema>=3.0->altair<6.0,>=4.2.0->gradio) (2023.7.1)\n",
      "Requirement already satisfied: attrs>=22.2.0 in c:\\users\\sumeet maheshwari\\appdata\\local\\programs\\python\\python310\\lib\\site-packages (from jsonschema>=3.0->altair<6.0,>=4.2.0->gradio) (23.1.0)\n",
      "Requirement already satisfied: rpds-py>=0.7.1 in c:\\users\\sumeet maheshwari\\appdata\\local\\programs\\python\\python310\\lib\\site-packages (from jsonschema>=3.0->altair<6.0,>=4.2.0->gradio) (0.9.2)\n",
      "Requirement already satisfied: referencing>=0.28.4 in c:\\users\\sumeet maheshwari\\appdata\\local\\programs\\python\\python310\\lib\\site-packages (from jsonschema>=3.0->altair<6.0,>=4.2.0->gradio) (0.30.2)\n",
      "Requirement already satisfied: six>=1.5 in c:\\users\\sumeet maheshwari\\appdata\\local\\programs\\python\\python310\\lib\\site-packages (from python-dateutil>=2.7->matplotlib~=3.0->gradio) (1.16.0)\n",
      "Requirement already satisfied: markdown-it-py>=2.2.0 in c:\\users\\sumeet maheshwari\\appdata\\local\\programs\\python\\python310\\lib\\site-packages (from rich<14.0.0,>=10.11.0->typer[all]<1.0,>=0.9->gradio) (3.0.0)\n",
      "Requirement already satisfied: pygments<3.0.0,>=2.13.0 in c:\\users\\sumeet maheshwari\\appdata\\local\\programs\\python\\python310\\lib\\site-packages (from rich<14.0.0,>=10.11.0->typer[all]<1.0,>=0.9->gradio) (2.16.1)\n",
      "Requirement already satisfied: exceptiongroup in c:\\users\\sumeet maheshwari\\appdata\\local\\programs\\python\\python310\\lib\\site-packages (from anyio->httpx->gradio) (1.1.3)\n",
      "Requirement already satisfied: mdurl~=0.1 in c:\\users\\sumeet maheshwari\\appdata\\local\\programs\\python\\python310\\lib\\site-packages (from markdown-it-py>=2.2.0->rich<14.0.0,>=10.11.0->typer[all]<1.0,>=0.9->gradio) (0.1.2)\n"
     ]
    },
    {
     "name": "stderr",
     "output_type": "stream",
     "text": [
      "\n",
      "[notice] A new release of pip is available: 23.0.1 -> 23.3.1\n",
      "[notice] To update, run: C:\\Users\\Sumeet Maheshwari\\AppData\\Local\\Programs\\Python\\Python310\\python.exe -m pip install --upgrade pip\n"
     ]
    }
   ],
   "source": [
    "!pip install gradio"
   ]
  },
  {
   "cell_type": "code",
   "execution_count": 8,
   "metadata": {},
   "outputs": [
    {
     "ename": "ModuleNotFoundError",
     "evalue": "No module named 'gradio'",
     "output_type": "error",
     "traceback": [
      "\u001b[1;31m---------------------------------------------------------------------------\u001b[0m",
      "\u001b[1;31mModuleNotFoundError\u001b[0m                       Traceback (most recent call last)",
      "\u001b[1;32mc:\\Users\\Sumeet Maheshwari\\Desktop\\end to end project\\Text_to_speech\\Text_to_Speech\\Text_to_Speech.ipynb Cell 5\u001b[0m line \u001b[0;36m1\n\u001b[1;32m----> <a href='vscode-notebook-cell:/c%3A/Users/Sumeet%20Maheshwari/Desktop/end%20to%20end%20project/Text_to_speech/Text_to_Speech/Text_to_Speech.ipynb#W4sZmlsZQ%3D%3D?line=0'>1</a>\u001b[0m \u001b[39mimport\u001b[39;00m \u001b[39mgradio\u001b[39;00m \u001b[39mas\u001b[39;00m \u001b[39mgr\u001b[39;00m\n\u001b[0;32m      <a href='vscode-notebook-cell:/c%3A/Users/Sumeet%20Maheshwari/Desktop/end%20to%20end%20project/Text_to_speech/Text_to_Speech/Text_to_Speech.ipynb#W4sZmlsZQ%3D%3D?line=2'>3</a>\u001b[0m \u001b[39mdef\u001b[39;00m \u001b[39mconvert_text_to_speech\u001b[39m(text):\n\u001b[0;32m      <a href='vscode-notebook-cell:/c%3A/Users/Sumeet%20Maheshwari/Desktop/end%20to%20end%20project/Text_to_speech/Text_to_Speech/Text_to_Speech.ipynb#W4sZmlsZQ%3D%3D?line=3'>4</a>\u001b[0m     adio_filename \u001b[39m=\u001b[39m \u001b[39m\"\u001b[39m\u001b[39moutput.mp3\u001b[39m\u001b[39m\"\u001b[39m\n",
      "\u001b[1;31mModuleNotFoundError\u001b[0m: No module named 'gradio'"
     ]
    }
   ],
   "source": [
    "import gradio as gr\n",
    "\n",
    "def convert_text_to_speech(text):\n",
    "    adio_filename = \"output.mp3\"\n",
    "    text_to_speech = TextToSpeech(text, adio_filename)\n",
    "    \n",
    "    if text_to_speech.convert():\n",
    "        return \"Text Converted to speech Successfully\"\n",
    "    \n",
    "    else:\n",
    "        return \"An Error Occurred during conversion\"\n",
    "    \n",
    "iface = gr.Interface(fn = convert_text_to_speech, \n",
    "                    input = \"text\",\n",
    "                    output = \"text\")\n",
    "\n",
    "iface.launch()"
   ]
  },
  {
   "cell_type": "code",
   "execution_count": null,
   "metadata": {},
   "outputs": [],
   "source": []
  }
 ],
 "metadata": {
  "kernelspec": {
   "display_name": "base",
   "language": "python",
   "name": "python3"
  },
  "language_info": {
   "codemirror_mode": {
    "name": "ipython",
    "version": 3
   },
   "file_extension": ".py",
   "mimetype": "text/x-python",
   "name": "python",
   "nbconvert_exporter": "python",
   "pygments_lexer": "ipython3",
   "version": "3.11.4"
  }
 },
 "nbformat": 4,
 "nbformat_minor": 2
}
